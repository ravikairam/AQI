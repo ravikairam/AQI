{
 "cells": [
  {
   "cell_type": "code",
   "execution_count": 1,
   "metadata": {},
   "outputs": [
    {
     "data": {
      "text/plain": [
       "'E:\\\\'"
      ]
     },
     "execution_count": 1,
     "metadata": {},
     "output_type": "execute_result"
    }
   ],
   "source": [
    "pwd"
   ]
  },
  {
   "cell_type": "code",
   "execution_count": 2,
   "metadata": {},
   "outputs": [],
   "source": [
    "import os\n",
    "import sys\n",
    "import time\n",
    "import requests"
   ]
  },
  {
   "cell_type": "code",
   "execution_count": 3,
   "metadata": {},
   "outputs": [
    {
     "name": "stdout",
     "output_type": "stream",
     "text": [
      "Time taken 22.726736307144165\n"
     ]
    }
   ],
   "source": [
    "def retrieval_html():\n",
    "    for year in range (2013,2019):\n",
    "        for month in range (1,13):\n",
    "            if(month < 10):            \n",
    "                url ='https://en.tutiempo.net/climate/0{}-{}/ws-107275.html'.format(month,year)\n",
    "            else:\n",
    "                url ='https://en.tutiempo.net/climate/{}-{}/ws-107275.html'.format(month,year)\n",
    "            texts=requests.get(url)\n",
    "            text_utf=texts.text.encode(\"utf=8\")\n",
    "            if not os.path.exists(\"Data/Html_data/{}\".format(year)):\n",
    "                os.makedirs(\"Data/Html_data/{}\".format(year))\n",
    "            with open (\"Data/Html_data/{}/{}.html\".format(year,month),\"wb\") as output:\n",
    "                output.write(text_utf)\n",
    "        sys.stdout.flush()\n",
    "if __name__==\"__main__\":\n",
    "    start_time=time.time()\n",
    "    retrieval_html()\n",
    "    stop_time=time.time()\n",
    "    print(\"Time taken {}\".format (stop_time-start_time))"
   ]
  },
  {
   "cell_type": "code",
   "execution_count": null,
   "metadata": {},
   "outputs": [],
   "source": []
  }
 ],
 "metadata": {
  "kernelspec": {
   "display_name": "Python 3",
   "language": "python",
   "name": "python3"
  },
  "language_info": {
   "codemirror_mode": {
    "name": "ipython",
    "version": 3
   },
   "file_extension": ".py",
   "mimetype": "text/x-python",
   "name": "python",
   "nbconvert_exporter": "python",
   "pygments_lexer": "ipython3",
   "version": "3.8.3"
  }
 },
 "nbformat": 4,
 "nbformat_minor": 4
}
